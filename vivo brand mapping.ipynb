{
 "cells": [
  {
   "cell_type": "code",
   "execution_count": 2,
   "id": "5a4f5cd8",
   "metadata": {},
   "outputs": [],
   "source": [
    "import pandas as pd\n",
    "import numpy as np\n",
    "import os\n",
    "import glob\n",
    "import math"
   ]
  },
  {
   "cell_type": "code",
   "execution_count": 4,
   "id": "8954095f",
   "metadata": {},
   "outputs": [
    {
     "name": "stdout",
     "output_type": "stream",
     "text": [
      "Give the csv file with all brand name where columns name is --- Brand----\\Users\\HP\\Downloads\\brand.csv\n",
      "Give the csv file as input which have the list of sku whose brand mapping is required with column is SKUC:\\Users\\HP\\Downloads\\vivo input.csv\n"
     ]
    }
   ],
   "source": [
    "s1=input(\"Give the csv file with all brand name where columns name is --- Brand----\")\n",
    "s2=input(\"Give the csv file as input which have the list of sku whose brand mapping is required with column is SKU\")\n",
    "b=pd.read_csv(s1)\n",
    "s=pd.read_csv(s2)\n",
    "s[\"Brand\"]=\"\"\n",
    "for brand in b[\"Brand\"].str.lower():\n",
    "    for i,sku in enumerate(s[\"SKU\"].str.lower()):\n",
    "        if brand in sku:\n",
    "            s.loc[i,\"Brand\"]=brand\n",
    "s[\"Brand\"]=s[\"Brand\"].str.title()\n",
    "s[\"SKU\"]=s[\"SKU\"].str.title()\n",
    "s.to_csv(\"Brand_Mapping_output.csv\",index=False)"
   ]
  },
  {
   "cell_type": "code",
   "execution_count": null,
   "id": "0e4266df",
   "metadata": {},
   "outputs": [],
   "source": []
  }
 ],
 "metadata": {
  "kernelspec": {
   "display_name": "Python 3 (ipykernel)",
   "language": "python",
   "name": "python3"
  },
  "language_info": {
   "codemirror_mode": {
    "name": "ipython",
    "version": 3
   },
   "file_extension": ".py",
   "mimetype": "text/x-python",
   "name": "python",
   "nbconvert_exporter": "python",
   "pygments_lexer": "ipython3",
   "version": "3.9.12"
  }
 },
 "nbformat": 4,
 "nbformat_minor": 5
}
